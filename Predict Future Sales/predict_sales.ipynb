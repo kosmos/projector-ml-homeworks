{
 "cells": [
  {
   "cell_type": "markdown",
   "source": [
    "# Imports"
   ],
   "metadata": {
    "collapsed": false,
    "pycharm": {
     "name": "#%% md\n"
    }
   }
  },
  {
   "cell_type": "code",
   "execution_count": 47,
   "outputs": [],
   "source": [
    "from copy import deepcopy\n",
    "\n",
    "# Imports\n",
    "import pandas as pd\n",
    "\n",
    "# Metrics\n",
    "from sklearn.metrics import mean_squared_error\n",
    "\n",
    "# Data transforms\n",
    "from itertools import product\n",
    "\n",
    "# Building model\n",
    "from sklearn.base import BaseEstimator"
   ],
   "metadata": {
    "collapsed": false,
    "pycharm": {
     "name": "#%%\n"
    }
   }
  },
  {
   "cell_type": "markdown",
   "source": [
    "# Import data"
   ],
   "metadata": {
    "collapsed": false,
    "pycharm": {
     "name": "#%% md\n"
    }
   }
  },
  {
   "cell_type": "code",
   "execution_count": 2,
   "outputs": [],
   "source": [
    "train = pd.read_csv(\"./data/sales_train.csv\")\n",
    "test = pd.read_csv(\"./data/test.csv\")\n",
    "sample_submission = pd.read_csv(\"./data/sample_submission.csv\")"
   ],
   "metadata": {
    "collapsed": false,
    "pycharm": {
     "name": "#%%\n"
    }
   }
  },
  {
   "cell_type": "code",
   "execution_count": 3,
   "outputs": [
    {
     "data": {
      "text/plain": "         date  date_block_num  shop_id  item_id  item_price  item_cnt_day\n0  02.01.2013               0       59    22154      999.00           1.0\n1  03.01.2013               0       25     2552      899.00           1.0\n2  05.01.2013               0       25     2552      899.00          -1.0\n3  06.01.2013               0       25     2554     1709.05           1.0\n4  15.01.2013               0       25     2555     1099.00           1.0",
      "text/html": "<div>\n<style scoped>\n    .dataframe tbody tr th:only-of-type {\n        vertical-align: middle;\n    }\n\n    .dataframe tbody tr th {\n        vertical-align: top;\n    }\n\n    .dataframe thead th {\n        text-align: right;\n    }\n</style>\n<table border=\"1\" class=\"dataframe\">\n  <thead>\n    <tr style=\"text-align: right;\">\n      <th></th>\n      <th>date</th>\n      <th>date_block_num</th>\n      <th>shop_id</th>\n      <th>item_id</th>\n      <th>item_price</th>\n      <th>item_cnt_day</th>\n    </tr>\n  </thead>\n  <tbody>\n    <tr>\n      <th>0</th>\n      <td>02.01.2013</td>\n      <td>0</td>\n      <td>59</td>\n      <td>22154</td>\n      <td>999.00</td>\n      <td>1.0</td>\n    </tr>\n    <tr>\n      <th>1</th>\n      <td>03.01.2013</td>\n      <td>0</td>\n      <td>25</td>\n      <td>2552</td>\n      <td>899.00</td>\n      <td>1.0</td>\n    </tr>\n    <tr>\n      <th>2</th>\n      <td>05.01.2013</td>\n      <td>0</td>\n      <td>25</td>\n      <td>2552</td>\n      <td>899.00</td>\n      <td>-1.0</td>\n    </tr>\n    <tr>\n      <th>3</th>\n      <td>06.01.2013</td>\n      <td>0</td>\n      <td>25</td>\n      <td>2554</td>\n      <td>1709.05</td>\n      <td>1.0</td>\n    </tr>\n    <tr>\n      <th>4</th>\n      <td>15.01.2013</td>\n      <td>0</td>\n      <td>25</td>\n      <td>2555</td>\n      <td>1099.00</td>\n      <td>1.0</td>\n    </tr>\n  </tbody>\n</table>\n</div>"
     },
     "execution_count": 3,
     "metadata": {},
     "output_type": "execute_result"
    }
   ],
   "source": [
    "train.head()"
   ],
   "metadata": {
    "collapsed": false,
    "pycharm": {
     "name": "#%%\n"
    }
   }
  },
  {
   "cell_type": "code",
   "execution_count": 4,
   "outputs": [
    {
     "data": {
      "text/plain": "   ID  shop_id  item_id\n0   0        5     5037\n1   1        5     5320\n2   2        5     5233\n3   3        5     5232\n4   4        5     5268",
      "text/html": "<div>\n<style scoped>\n    .dataframe tbody tr th:only-of-type {\n        vertical-align: middle;\n    }\n\n    .dataframe tbody tr th {\n        vertical-align: top;\n    }\n\n    .dataframe thead th {\n        text-align: right;\n    }\n</style>\n<table border=\"1\" class=\"dataframe\">\n  <thead>\n    <tr style=\"text-align: right;\">\n      <th></th>\n      <th>ID</th>\n      <th>shop_id</th>\n      <th>item_id</th>\n    </tr>\n  </thead>\n  <tbody>\n    <tr>\n      <th>0</th>\n      <td>0</td>\n      <td>5</td>\n      <td>5037</td>\n    </tr>\n    <tr>\n      <th>1</th>\n      <td>1</td>\n      <td>5</td>\n      <td>5320</td>\n    </tr>\n    <tr>\n      <th>2</th>\n      <td>2</td>\n      <td>5</td>\n      <td>5233</td>\n    </tr>\n    <tr>\n      <th>3</th>\n      <td>3</td>\n      <td>5</td>\n      <td>5232</td>\n    </tr>\n    <tr>\n      <th>4</th>\n      <td>4</td>\n      <td>5</td>\n      <td>5268</td>\n    </tr>\n  </tbody>\n</table>\n</div>"
     },
     "execution_count": 4,
     "metadata": {},
     "output_type": "execute_result"
    }
   ],
   "source": [
    "test.head()"
   ],
   "metadata": {
    "collapsed": false,
    "pycharm": {
     "name": "#%%\n"
    }
   }
  },
  {
   "cell_type": "code",
   "execution_count": 5,
   "outputs": [
    {
     "data": {
      "text/plain": "   ID  item_cnt_month\n0   0             0.5\n1   1             0.5\n2   2             0.5\n3   3             0.5\n4   4             0.5",
      "text/html": "<div>\n<style scoped>\n    .dataframe tbody tr th:only-of-type {\n        vertical-align: middle;\n    }\n\n    .dataframe tbody tr th {\n        vertical-align: top;\n    }\n\n    .dataframe thead th {\n        text-align: right;\n    }\n</style>\n<table border=\"1\" class=\"dataframe\">\n  <thead>\n    <tr style=\"text-align: right;\">\n      <th></th>\n      <th>ID</th>\n      <th>item_cnt_month</th>\n    </tr>\n  </thead>\n  <tbody>\n    <tr>\n      <th>0</th>\n      <td>0</td>\n      <td>0.5</td>\n    </tr>\n    <tr>\n      <th>1</th>\n      <td>1</td>\n      <td>0.5</td>\n    </tr>\n    <tr>\n      <th>2</th>\n      <td>2</td>\n      <td>0.5</td>\n    </tr>\n    <tr>\n      <th>3</th>\n      <td>3</td>\n      <td>0.5</td>\n    </tr>\n    <tr>\n      <th>4</th>\n      <td>4</td>\n      <td>0.5</td>\n    </tr>\n  </tbody>\n</table>\n</div>"
     },
     "execution_count": 5,
     "metadata": {},
     "output_type": "execute_result"
    }
   ],
   "source": [
    "sample_submission.head()"
   ],
   "metadata": {
    "collapsed": false,
    "pycharm": {
     "name": "#%%\n"
    }
   }
  },
  {
   "cell_type": "code",
   "execution_count": 7,
   "outputs": [
    {
     "data": {
      "text/plain": "   shop_id  item_id  date_block_num  item_cnt_month\n0        0       32               0             6.0\n1        0       32               1            10.0\n2        0       32               2             0.0\n3        0       32               3             0.0\n4        0       32               4             0.0",
      "text/html": "<div>\n<style scoped>\n    .dataframe tbody tr th:only-of-type {\n        vertical-align: middle;\n    }\n\n    .dataframe tbody tr th {\n        vertical-align: top;\n    }\n\n    .dataframe thead th {\n        text-align: right;\n    }\n</style>\n<table border=\"1\" class=\"dataframe\">\n  <thead>\n    <tr style=\"text-align: right;\">\n      <th></th>\n      <th>shop_id</th>\n      <th>item_id</th>\n      <th>date_block_num</th>\n      <th>item_cnt_month</th>\n    </tr>\n  </thead>\n  <tbody>\n    <tr>\n      <th>0</th>\n      <td>0</td>\n      <td>32</td>\n      <td>0</td>\n      <td>6.0</td>\n    </tr>\n    <tr>\n      <th>1</th>\n      <td>0</td>\n      <td>32</td>\n      <td>1</td>\n      <td>10.0</td>\n    </tr>\n    <tr>\n      <th>2</th>\n      <td>0</td>\n      <td>32</td>\n      <td>2</td>\n      <td>0.0</td>\n    </tr>\n    <tr>\n      <th>3</th>\n      <td>0</td>\n      <td>32</td>\n      <td>3</td>\n      <td>0.0</td>\n    </tr>\n    <tr>\n      <th>4</th>\n      <td>0</td>\n      <td>32</td>\n      <td>4</td>\n      <td>0.0</td>\n    </tr>\n  </tbody>\n</table>\n</div>"
     },
     "execution_count": 7,
     "metadata": {},
     "output_type": "execute_result"
    }
   ],
   "source": [
    "# Helper function to fill missed data in train set\n",
    "def fill_data(train):\n",
    "    df = train.groupby([\"date_block_num\", \"shop_id\", \"item_id\"])[\"item_cnt_day\"].sum().reset_index(name=\"item_cnt_month\")\n",
    "    unique_shop_id = df[\"shop_id\"].unique()\n",
    "    unique_item_id = df[\"item_id\"].unique()\n",
    "    unique_date_block_num = df[\"date_block_num\"].unique()\n",
    "\n",
    "    date_block_shop_item_grid = pd.DataFrame([(shop_id, item_id, date_block) for shop_id, item_id, date_block in product(unique_shop_id, unique_item_id, unique_date_block_num)], columns=[\"shop_id\", \"item_id\", \"date_block_num\"])\n",
    "    date_block_shop_item_grid = date_block_shop_item_grid.merge(df, on=[\"shop_id\", \"item_id\", \"date_block_num\"], how=\"left\")\n",
    "    date_block_shop_item_grid.fillna({\"item_cnt_month\": 0}, inplace=True)\n",
    "\n",
    "    return date_block_shop_item_grid\n",
    "\n",
    "X = fill_data(train)\n",
    "X.head()"
   ],
   "metadata": {
    "collapsed": false,
    "pycharm": {
     "name": "#%%\n"
    }
   }
  },
  {
   "cell_type": "markdown",
   "source": [
    "# Validation approach"
   ],
   "metadata": {
    "collapsed": false,
    "pycharm": {
     "name": "#%% md\n"
    }
   }
  },
  {
   "cell_type": "code",
   "execution_count": 83,
   "outputs": [],
   "source": [
    "def cv(model):\n",
    "    results = []\n",
    "\n",
    "    folds = [(list(range(25, 31)), [31]), (list(range(26, 32)), [32]), (list(range(27, 33)), [33])]\n",
    "\n",
    "    for train_range, test_range in folds:\n",
    "        train_data = X.loc[X[\"date_block_num\"].isin(train_range)]\n",
    "        test_data = X.loc[X[\"date_block_num\"].isin(test_range)]\n",
    "\n",
    "        local_model = deepcopy(model)\n",
    "\n",
    "        local_model.fit(train_data)\n",
    "        y_pred = local_model.predict(test_data.drop(\"item_cnt_month\", axis=1))\n",
    "\n",
    "        results.append(mean_squared_error(y_pred.clip(0, 20), test_data[\"item_cnt_month\"].clip(0, 20), squared=False))\n",
    "\n",
    "    print(results)"
   ],
   "metadata": {
    "collapsed": false,
    "pycharm": {
     "name": "#%%\n"
    }
   }
  },
  {
   "cell_type": "markdown",
   "source": [
    "# Make submission helper"
   ],
   "metadata": {
    "collapsed": false,
    "pycharm": {
     "name": "#%% md\n"
    }
   }
  },
  {
   "cell_type": "code",
   "execution_count": 65,
   "outputs": [],
   "source": [
    "def make_submission(name, model):\n",
    "    \"\"\"Helper function to generate submission\n",
    "\n",
    "    Parameters:\n",
    "    name (string): Name of the submission\n",
    "    model (sklearn.base.BaseEstimator): Model to make prediction\n",
    "\n",
    "    \"\"\"\n",
    "    y_test = model.predict(test).clip(0, 20)\n",
    "\n",
    "    submission = pd.DataFrame({\n",
    "        \"ID\": test.index,\n",
    "        \"item_cnt_month\": y_test,\n",
    "    })\n",
    "\n",
    "    submission.to_csv(f\"./submissions/submission_{name}.csv\", index=False)\n",
    "\n",
    "    print(f\"Submission {name} was generated.\")"
   ],
   "metadata": {
    "collapsed": false,
    "pycharm": {
     "name": "#%%\n"
    }
   }
  },
  {
   "cell_type": "markdown",
   "source": [],
   "metadata": {
    "collapsed": false,
    "pycharm": {
     "name": "#%% md\n"
    }
   }
  },
  {
   "cell_type": "markdown",
   "source": [
    "## Предстказание на основании константы"
   ],
   "metadata": {
    "collapsed": false,
    "pycharm": {
     "name": "#%% md\n"
    }
   }
  },
  {
   "cell_type": "markdown",
   "source": [
    "Создадим модель, которая предсказывает константу. Будем использовать ее как как бейслайн."
   ],
   "metadata": {
    "collapsed": false,
    "pycharm": {
     "name": "#%% md\n"
    }
   }
  },
  {
   "cell_type": "code",
   "execution_count": 84,
   "outputs": [
    {
     "name": "stdout",
     "output_type": "stream",
     "text": [
      "[0.44581002663061814, 0.48399744540120154, 0.49713491044374875]\n",
      "Submission constant_0 was generated.\n"
     ]
    }
   ],
   "source": [
    "class ConstantRegressor(BaseEstimator):\n",
    "    \"\"\"Constant estimator for defining baseline\"\"\"\n",
    "\n",
    "    def __init__(self, value):\n",
    "        self.value = value\n",
    "\n",
    "\n",
    "    def fit(self, X):\n",
    "        return self\n",
    "\n",
    "    def predict(self, X):\n",
    "        return  pd.Series(data = self.value, index = range(0, X.shape[0]))\n",
    "\n",
    "# Make prediction with 0\n",
    "model = ConstantRegressor(0)\n",
    "\n",
    "# Validation\n",
    "cv(model)\n",
    "\n",
    "# Submission\n",
    "make_submission(\"constant_0\", model)"
   ],
   "metadata": {
    "collapsed": false,
    "pycharm": {
     "name": "#%%\n"
    }
   }
  },
  {
   "cell_type": "markdown",
   "source": [
    "Результат модели на Kaggle `1.25011`."
   ],
   "metadata": {
    "collapsed": false,
    "pycharm": {
     "name": "#%% md\n"
    }
   }
  },
  {
   "cell_type": "markdown",
   "source": [
    "## Предсказание на основании предыдущего периода"
   ],
   "metadata": {
    "collapsed": false,
    "pycharm": {
     "name": "#%% md\n"
    }
   }
  },
  {
   "cell_type": "code",
   "execution_count": 85,
   "outputs": [
    {
     "name": "stdout",
     "output_type": "stream",
     "text": [
      "[0.3959110258919294, 0.4370807413379953, 0.5037204333030488]\n",
      "Submission last_period was generated.\n"
     ]
    }
   ],
   "source": [
    "class LastPeriodRegressor(BaseEstimator):\n",
    "    \"\"\"Estimato basen on data for preview period\"\"\"\n",
    "\n",
    "    def fit(self, X):\n",
    "        X_ = X.copy()\n",
    "        temp_df = X_[X_[\"date_block_num\"] == X_[\"date_block_num\"].max()]\n",
    "        self.last = temp_df.drop(\"date_block_num\", axis=1)\n",
    "        return self\n",
    "\n",
    "    def predict(self, X):\n",
    "        # make copies for safety\n",
    "        last_df = self.last.copy()\n",
    "        test_df = X.copy()\n",
    "\n",
    "        # Take last from train date\n",
    "        result = pd.merge(test_df, last_df,  how='left', left_on=['shop_id','item_id'], right_on = ['shop_id','item_id'])\n",
    "\n",
    "        # Fill NaN\n",
    "        result.fillna(0, inplace=True)\n",
    "\n",
    "        return result[\"item_cnt_month\"]\n",
    "\n",
    "# Make prediction\n",
    "model = LastPeriodRegressor()\n",
    "\n",
    "# Validation\n",
    "cv(model)\n",
    "\n",
    "# Train\n",
    "model.fit(X)\n",
    "\n",
    "# Create submission\n",
    "make_submission(\"last_period\", model)"
   ],
   "metadata": {
    "collapsed": false,
    "pycharm": {
     "name": "#%%\n"
    }
   }
  },
  {
   "cell_type": "markdown",
   "source": [
    "Result on Kaggel `1.16777`."
   ],
   "metadata": {
    "collapsed": false,
    "pycharm": {
     "name": "#%% md\n"
    }
   }
  },
  {
   "cell_type": "markdown",
   "source": [
    "## Предсказание средним за n-последний периодов"
   ],
   "metadata": {
    "collapsed": false,
    "pycharm": {
     "name": "#%% md\n"
    }
   }
  },
  {
   "cell_type": "code",
   "execution_count": 100,
   "outputs": [
    {
     "name": "stdout",
     "output_type": "stream",
     "text": [
      "[0.3959110258919294, 0.4370807413379953, 0.5037204333030488]\n",
      "[0.3755607537581353, 0.4260474707331795, 0.47103188352220626]\n",
      "[0.3876995966945143, 0.43262718982465254, 0.4581371201942133]\n",
      "[0.3968842771370006, 0.44841803518026235, 0.45805007985104557]\n",
      "[0.3983392097762329, 0.45947577698541997, 0.468807984801644]\n",
      "[0.39651072256006165, 0.4608998910887789, 0.47665548220661663]\n"
     ]
    }
   ],
   "source": [
    "class LastNRegressor(BaseEstimator):\n",
    "    \"\"\"Estimator basen on data for n last periods period\n",
    "\n",
    "    Parameters:\n",
    "    type (string):\n",
    "    model (sklearn.base.BaseEstimator): Model to make prediction\n",
    "    \"\"\"\n",
    "\n",
    "    def __init__(self, type = \"mean\", n = 1):\n",
    "        self.type = type\n",
    "        self.n = n\n",
    "\n",
    "    def fit(self, X):\n",
    "        # Make copy for safety\n",
    "        X_ = X.copy()\n",
    "\n",
    "        if len(X_[\"date_block_num\"].unique()) < self.n:\n",
    "            raise NameError(f\"Train data should contain at least {self.n} periods.\")\n",
    "\n",
    "        last_period = X_[\"date_block_num\"].max()\n",
    "\n",
    "        temp_df = X_[X_[\"date_block_num\"] > last_period - self.n]\n",
    "\n",
    "        if self.type == \"mean\":\n",
    "            temp_df = temp_df.groupby([\"shop_id\", \"item_id\"])[\"item_cnt_month\"].mean().reset_index(name=\"value\")\n",
    "        else:\n",
    "            temp_df = temp_df.groupby([\"shop_id\", \"item_id\"])[\"item_cnt_month\"].median().reset_index(name=\"value\")\n",
    "\n",
    "        self.last = temp_df\n",
    "\n",
    "        return self\n",
    "\n",
    "    def predict(self, X):\n",
    "        # make copies for safety\n",
    "        last_df = self.last.copy()\n",
    "        test_df = X.copy()\n",
    "\n",
    "        # Take last from train date\n",
    "        result = pd.merge(test_df, last_df,  how='left', left_on=['shop_id','item_id'], right_on = ['shop_id','item_id'])\n",
    "\n",
    "        # Fill NaN\n",
    "        result.fillna(0, inplace=True)\n",
    "\n",
    "        return result[\"value\"]\n",
    "\n",
    "# Validation\n",
    "model1 = LastNRegressor(n=1)\n",
    "model2 = LastNRegressor(n=2)\n",
    "model3 = LastNRegressor(n=3)\n",
    "model4 = LastNRegressor(n=4)\n",
    "model5 = LastNRegressor(n=5)\n",
    "model6 = LastNRegressor(n=6)\n",
    "\n",
    "cv(model1)\n",
    "cv(model2)\n",
    "cv(model3)\n",
    "cv(model4)\n",
    "cv(model5)\n",
    "cv(model6)"
   ],
   "metadata": {
    "collapsed": false,
    "pycharm": {
     "name": "#%%\n"
    }
   }
  },
  {
   "cell_type": "code",
   "execution_count": 102,
   "outputs": [
    {
     "name": "stdout",
     "output_type": "stream",
     "text": [
      "Submission last_mean was generated.\n"
     ]
    }
   ],
   "source": [
    "model = LastNRegressor(n = 32)\n",
    "\n",
    "# Train\n",
    "model.fit(X)\n",
    "\n",
    "# Create submission\n",
    "make_submission(\"last_mean\", model)"
   ],
   "metadata": {
    "collapsed": false,
    "pycharm": {
     "name": "#%%\n"
    }
   }
  },
  {
   "cell_type": "markdown",
   "source": [
    "Results on Kaggle:\n",
    "n=2 - `1.16777`\n",
    "n=32 - `1.18864`"
   ],
   "metadata": {
    "collapsed": false,
    "pycharm": {
     "name": "#%% md\n"
    }
   }
  },
  {
   "cell_type": "code",
   "execution_count": 101,
   "outputs": [
    {
     "name": "stdout",
     "output_type": "stream",
     "text": [
      "[0.3959110258919294, 0.4370807413379953, 0.5037204333030488]\n",
      "[0.3755607537581353, 0.4260474707331795, 0.47103188352220626]\n",
      "[0.3791766536246795, 0.4452696745538588, 0.4649119642120707]\n",
      "[0.3695921265159397, 0.439545442082874, 0.45796377627360163]\n",
      "[0.37507992249413263, 0.4409516188878128, 0.4612736946525961]\n",
      "[0.3723243252300437, 0.4362108200737118, 0.45702114802404337]\n"
     ]
    }
   ],
   "source": [
    "# Validation\n",
    "model1 = LastNRegressor(type=\"median\", n=1)\n",
    "model2 = LastNRegressor(type=\"median\", n=2)\n",
    "model3 = LastNRegressor(type=\"median\", n=3)\n",
    "model4 = LastNRegressor(type=\"median\", n=4)\n",
    "model5 = LastNRegressor(type=\"median\", n=5)\n",
    "model6 = LastNRegressor(type=\"median\", n=6)\n",
    "\n",
    "cv(model1)\n",
    "cv(model2)\n",
    "cv(model3)\n",
    "cv(model4)\n",
    "cv(model5)\n",
    "cv(model6)"
   ],
   "metadata": {
    "collapsed": false,
    "pycharm": {
     "name": "#%%\n"
    }
   }
  },
  {
   "cell_type": "code",
   "execution_count": 103,
   "outputs": [
    {
     "name": "stdout",
     "output_type": "stream",
     "text": [
      "Submission last_median was generated.\n"
     ]
    }
   ],
   "source": [
    "model = LastNRegressor(type=\"median\", n = 32)\n",
    "\n",
    "# Train\n",
    "model.fit(X)\n",
    "\n",
    "# Create submission\n",
    "make_submission(\"last_median\", model)"
   ],
   "metadata": {
    "collapsed": false,
    "pycharm": {
     "name": "#%%\n"
    }
   }
  },
  {
   "cell_type": "markdown",
   "source": [
    "Results on Kaggle:\n",
    "n=2 - `1.16777`\n",
    "n=32 - `1.19240`"
   ],
   "metadata": {
    "collapsed": false,
    "pycharm": {
     "name": "#%% md\n"
    }
   }
  }
 ],
 "metadata": {
  "kernelspec": {
   "name": "ml-course",
   "language": "python",
   "display_name": "ml-course"
  },
  "language_info": {
   "codemirror_mode": {
    "name": "ipython",
    "version": 2
   },
   "file_extension": ".py",
   "mimetype": "text/x-python",
   "name": "python",
   "nbconvert_exporter": "python",
   "pygments_lexer": "ipython2",
   "version": "2.7.6"
  }
 },
 "nbformat": 4,
 "nbformat_minor": 0
}